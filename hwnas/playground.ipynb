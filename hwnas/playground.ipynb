{
 "cells": [
  {
   "cell_type": "code",
   "execution_count": 1,
   "id": "ffc50015",
   "metadata": {},
   "outputs": [
    {
     "name": "stderr",
     "output_type": "stream",
     "text": [
      "/home/luis/bin/miniconda3/envs/hwnascim/lib/python3.10/site-packages/nni/nas/nn/pytorch/layers.py:94: RuntimeWarning: <class 'torch.nn.parameter.Buffer'> is found to be not a nn.Module, which is unexpected. It means your PyTorch version might not be supported.\n",
      "  warnings.warn(f'{obj} is found to be not a nn.Module, which is unexpected. '\n"
     ]
    }
   ],
   "source": [
    "import torch\n",
    "import torch.nn as nn\n",
    "import torch.nn.functional as F\n",
    "import util"
   ]
  },
  {
   "cell_type": "code",
   "execution_count": 2,
   "id": "4d50a525",
   "metadata": {},
   "outputs": [],
   "source": [
    "\n",
    "class CustomModel(nn.Module):\n",
    "    def __init__(self, num_classes):\n",
    "        super().__init__()\n",
    "        # Layers from config\n",
    "        self.conv1 = nn.Conv2d(3, 6, 5)\n",
    "        self.pool = nn.MaxPool2d(kernel_size=2, stride=2)\n",
    "        self.conv2 = nn.Conv2d(6, 16, 5)\n",
    "        self.conv3 = nn.Conv2d(16, 120, 5)\n",
    "        self.dropout = nn.Dropout()\n",
    "        self.fc1 = nn.Linear(120, 84)\n",
    "        self.fc2 = nn.Linear(84, num_classes)\n",
    "\n",
    "    def forward(self, x):\n",
    "        x = F.relu(self.conv1(x))          # conv + relu\n",
    "        x = self.pool(x)                   # maxpool\n",
    "        x = F.relu(self.conv2(x))          # conv + relu\n",
    "        x = self.pool(x)                   # maxpool\n",
    "        x = F.relu(self.conv3(x))          # conv + relu\n",
    "        x = torch.flatten(x, 1)            # flatten (view)\n",
    "        x = self.fc1(x)\n",
    "        x = self.dropout(x)\n",
    "        x = F.relu(x)\n",
    "        x = self.fc2(x)               # final fc\n",
    "        return x\n",
    "\n",
    "num_classes = 10"
   ]
  },
  {
   "cell_type": "code",
   "execution_count": 3,
   "id": "4c766981",
   "metadata": {},
   "outputs": [
    {
     "data": {
      "text/plain": [
       "[{'type': 'conv',\n",
       "  'in_channels': 3,\n",
       "  'out_channels': 6,\n",
       "  'kernel_size': 5,\n",
       "  'padding': 0},\n",
       " {'type': 'relu'},\n",
       " {'type': 'pooling',\n",
       "  'mode': 'MAX',\n",
       "  'kernel_size': 2,\n",
       "  'stride': 2,\n",
       "  'padding': 0},\n",
       " {'type': 'conv',\n",
       "  'in_channels': 6,\n",
       "  'out_channels': 16,\n",
       "  'kernel_size': 5,\n",
       "  'padding': 0},\n",
       " {'type': 'relu'},\n",
       " {'type': 'pooling',\n",
       "  'mode': 'MAX',\n",
       "  'kernel_size': 2,\n",
       "  'stride': 2,\n",
       "  'padding': 0},\n",
       " {'type': 'conv',\n",
       "  'in_channels': 16,\n",
       "  'out_channels': 120,\n",
       "  'kernel_size': 5,\n",
       "  'padding': 0},\n",
       " {'type': 'relu'},\n",
       " {'type': 'view'},\n",
       " {'type': 'fc', 'in_features': 120, 'out_features': 84},\n",
       " {'type': 'dropout'},\n",
       " {'type': 'relu'},\n",
       " {'type': 'fc', 'in_features': 84, 'out_features': 10}]"
      ]
     },
     "execution_count": 3,
     "metadata": {},
     "output_type": "execute_result"
    }
   ],
   "source": [
    "layer_config_list = []\n",
    "layer_config_list.append({'type': 'conv', 'in_channels': 3, 'out_channels': 6, 'kernel_size': 5, 'padding' : 0})\n",
    "layer_config_list.append({'type': 'relu'})\n",
    "layer_config_list.append({'type': 'pooling', 'mode': 'MAX', 'kernel_size': 2, 'stride': 2, 'padding' : 0})\n",
    "layer_config_list.append({'type': 'conv', 'in_channels': 6, 'out_channels': 16, 'kernel_size': 5, 'padding' : 0})\n",
    "layer_config_list.append({'type': 'relu'})\n",
    "layer_config_list.append({'type': 'pooling', 'mode': 'MAX', 'kernel_size': 2, 'stride': 2, 'padding' : 0})\n",
    "layer_config_list.append({'type': 'conv', 'in_channels': 16, 'out_channels': 120, 'kernel_size': 5, 'padding' : 0})\n",
    "layer_config_list.append({'type': 'relu'})\n",
    "layer_config_list.append({'type': 'view'})\n",
    "layer_config_list.append({'type': 'fc', 'in_features': 120, 'out_features': 84})\n",
    "layer_config_list.append({'type': 'dropout'})\n",
    "layer_config_list.append({'type': 'relu'})\n",
    "layer_config_list.append({'type': 'fc', 'in_features': 84, 'out_features': num_classes})\n",
    "layer_config_list"
   ]
  },
  {
   "cell_type": "code",
   "execution_count": 4,
   "id": "fa51fcac",
   "metadata": {},
   "outputs": [
    {
     "data": {
      "text/plain": [
       "[{'type': 'conv',\n",
       "  'in_channels': 3,\n",
       "  'out_channels': 6,\n",
       "  'kernel_size': 5,\n",
       "  'padding': 0},\n",
       " {'type': 'relu'},\n",
       " {'type': 'pooling',\n",
       "  'mode': 'MAX',\n",
       "  'kernel_size': 2,\n",
       "  'stride': 2,\n",
       "  'padding': 0},\n",
       " {'type': 'conv',\n",
       "  'in_channels': 6,\n",
       "  'out_channels': 16,\n",
       "  'kernel_size': 5,\n",
       "  'padding': 0},\n",
       " {'type': 'relu'},\n",
       " {'type': 'pooling',\n",
       "  'mode': 'MAX',\n",
       "  'kernel_size': 2,\n",
       "  'stride': 2,\n",
       "  'padding': 0},\n",
       " {'type': 'conv',\n",
       "  'in_channels': 16,\n",
       "  'out_channels': 120,\n",
       "  'kernel_size': 5,\n",
       "  'padding': 0},\n",
       " {'type': 'relu'},\n",
       " {'type': 'view'},\n",
       " {'type': 'fc', 'in_features': 120, 'out_features': 84},\n",
       " {'type': 'dropout'},\n",
       " {'type': 'relu'},\n",
       " {'type': 'fc', 'in_features': 84, 'out_features': 10}]"
      ]
     },
     "execution_count": 4,
     "metadata": {},
     "output_type": "execute_result"
    }
   ],
   "source": [
    "model = CustomModel(num_classes=num_classes)\n",
    "test = util.trace_model(model=model, input_shape=(1, 1, 28, 28), num_classes=num_classes)\n",
    "test"
   ]
  },
  {
   "cell_type": "code",
   "execution_count": 5,
   "id": "0028911f",
   "metadata": {},
   "outputs": [],
   "source": [
    "assert layer_config_list == test"
   ]
  },
  {
   "cell_type": "code",
   "execution_count": null,
   "id": "2eff3324",
   "metadata": {},
   "outputs": [],
   "source": []
  }
 ],
 "metadata": {
  "kernelspec": {
   "display_name": "hwnascim",
   "language": "python",
   "name": "python3"
  },
  "language_info": {
   "codemirror_mode": {
    "name": "ipython",
    "version": 3
   },
   "file_extension": ".py",
   "mimetype": "text/x-python",
   "name": "python",
   "nbconvert_exporter": "python",
   "pygments_lexer": "ipython3",
   "version": "3.10.16"
  }
 },
 "nbformat": 4,
 "nbformat_minor": 5
}
