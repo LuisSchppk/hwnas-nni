{
 "cells": [
  {
   "cell_type": "code",
   "execution_count": 1,
   "id": "d8fc5d0d",
   "metadata": {},
   "outputs": [
    {
     "name": "stdout",
     "output_type": "stream",
     "text": [
      "2.0.1+cu117\n",
      "11.7\n",
      "True\n"
     ]
    }
   ],
   "source": [
    "import torch\n",
    "print(torch.__version__)\n",
    "print(torch.version.cuda)\n",
    "print(torch.cuda.is_available())"
   ]
  },
  {
   "cell_type": "code",
   "execution_count": null,
   "id": "af1ad72a",
   "metadata": {},
   "outputs": [],
   "source": [
    "import torch\n",
    "from torchviz import make_dot\n",
    "import torch.nn as nn\n",
    "import pandas as pd\n",
    "import numpy as np\n",
    "from search_space import SimpleCIFAR10ModelSpace, TutorialModelSpace\n",
    "import sequence_preprocess\n",
    "from cifar10net import df_to_fcgr\n",
    "from nni.nas.evaluator import FunctionalEvaluator\n",
    "import nni.nas.strategy as strategy\n",
    "from nni.nas.experiment import NasExperiment\n",
    "from nni.nas.experiment.config import NasExperimentConfig\n",
    "from evaluator import *"
   ]
  },
  {
   "cell_type": "code",
   "execution_count": 2,
   "id": "64d691da",
   "metadata": {},
   "outputs": [],
   "source": [
    "batch_size=64\n",
    "num_worker = 4\n",
    "k=7"
   ]
  },
  {
   "cell_type": "markdown",
   "id": "1256f1ad",
   "metadata": {},
   "source": [
    "## Basemodel "
   ]
  },
  {
   "cell_type": "code",
   "execution_count": 3,
   "id": "b94704c4",
   "metadata": {},
   "outputs": [],
   "source": [
    "class CIFAR10Net(nn.Module):\n",
    "    def __init__(self, num_classes):\n",
    "        super(CIFAR10Net, self).__init__()\n",
    "        kernel_size = 3\n",
    "        self.features = nn.Sequential(\n",
    "            nn.Conv2d(1, 32, kernel_size=kernel_size, padding=1),\n",
    "            nn.ReLU(inplace=True),\n",
    "            nn.MaxPool2d(2),\n",
    "\n",
    "            nn.Conv2d(32, 64, kernel_size=kernel_size, padding=1),\n",
    "            nn.ReLU(inplace=True),\n",
    "            nn.MaxPool2d(2),\n",
    "\n",
    "            nn.Conv2d(64, 128, kernel_size=kernel_size, padding=1),\n",
    "            nn.ReLU(inplace=True),\n",
    "            nn.MaxPool2d(2),\n",
    "        )\n",
    "        self.classifier = nn.Sequential(\n",
    "            nn.Flatten(),\n",
    "            nn.Linear(128 * 4 * 4, 256),\n",
    "            nn.ReLU(inplace=True),\n",
    "            nn.Linear(256, num_classes),\n",
    "        )\n",
    "\n",
    "    def forward(self, x):\n",
    "        x = self.features(x)\n",
    "        x = self.classifier(x)\n",
    "        return x"
   ]
  },
  {
   "cell_type": "code",
   "execution_count": 4,
   "id": "4d247a47",
   "metadata": {},
   "outputs": [],
   "source": [
    "# df = sequence_preprocess.load_genome_data()\n",
    "# df"
   ]
  },
  {
   "cell_type": "code",
   "execution_count": 5,
   "id": "36715cfc",
   "metadata": {},
   "outputs": [],
   "source": [
    "# df_fcgr = df_to_fcgr(df, k)\n",
    "# df_fcgr"
   ]
  },
  {
   "cell_type": "code",
   "execution_count": 6,
   "id": "a1d04976",
   "metadata": {},
   "outputs": [],
   "source": [
    "# most_common_class_count = df['label'].value_counts().max()\n",
    "# total_samples = len(df)\n",
    "# baseline_accuracy = most_common_class_count / total_samples\n",
    "# print(f\"Baseline Accuracy: {baseline_accuracy * 100:.4f}%\")"
   ]
  },
  {
   "cell_type": "code",
   "execution_count": 7,
   "id": "90048b3e",
   "metadata": {},
   "outputs": [
    {
     "name": "stdout",
     "output_type": "stream",
     "text": [
      "[2025-06-07 14:25:05] \u001b[33mWARNING: `training_service` will be ignored for sequential execution engine.\u001b[0m\n",
      "[2025-06-07 14:25:05] \u001b[33mWARNING: `training_service` will be ignored for sequential execution engine.\u001b[0m\n",
      "[2025-06-07 14:25:05] \u001b[33mWARNING: `training_service` will be ignored for sequential execution engine.\u001b[0m\n",
      "[2025-06-07 14:25:05] \u001b[33mWARNING: `training_service` will be ignored for sequential execution engine.\u001b[0m\n",
      "[2025-06-07 14:25:05] \u001b[33mWARNING: `training_service` will be ignored for sequential execution engine.\u001b[0m\n",
      "[2025-06-07 14:25:05] \u001b[33mWARNING: `training_service` will be ignored for sequential execution engine.\u001b[0m\n",
      "[2025-06-07 14:25:05] \u001b[33mWARNING: `training_service` will be ignored for sequential execution engine.\u001b[0m\n",
      "[2025-06-07 14:25:05] \u001b[33mWARNING: `training_service` will be ignored for sequential execution engine.\u001b[0m\n",
      "[2025-06-07 14:25:05] \u001b[33mWARNING: `training_service` will be ignored for sequential execution engine.\u001b[0m\n",
      "[2025-06-07 14:25:05] \u001b[33mWARNING: `training_service` will be ignored for sequential execution engine.\u001b[0m\n",
      "[2025-06-07 14:25:05] \u001b[32mCheckpoint saved to /home/luis/nni-experiments/0c21fxgj/checkpoint.\u001b[0m\n",
      "[2025-06-07 14:25:05] \u001b[32mExperiment initialized successfully. Starting exploration strategy...\u001b[0m\n",
      "[2025-06-07 14:25:05] \u001b[32mSpawning the initial population. 10 individuals to go.\u001b[0m\n",
      "[2025-06-07 14:25:05] \u001b[32m[Individual    1] Random: {'conv2': 0, 'dropout': 0.5, 'feature': 128}\u001b[0m\n",
      "Evaluate on cuda\n",
      "Epoch 0\n"
     ]
    },
    {
     "name": "stderr",
     "output_type": "stream",
     "text": [
      "Training: 100%|██████████| 77/77 [00:08<00:00,  9.45it/s]\n"
     ]
    },
    {
     "name": "stdout",
     "output_type": "stream",
     "text": [
      "\n",
      "Test set: Accuracy: 0/8412 (0%)\n",
      "\n",
      "Reset Patience\n",
      "Epoch 1\n"
     ]
    },
    {
     "name": "stderr",
     "output_type": "stream",
     "text": [
      "Training: 100%|██████████| 77/77 [00:07<00:00,  9.88it/s]\n"
     ]
    },
    {
     "name": "stdout",
     "output_type": "stream",
     "text": [
      "\n",
      "Test set: Accuracy: 0/8412 (0%)\n",
      "\n",
      "Epoch 2\n"
     ]
    },
    {
     "name": "stderr",
     "output_type": "stream",
     "text": [
      "Training: 100%|██████████| 77/77 [00:07<00:00,  9.86it/s]\n"
     ]
    },
    {
     "name": "stdout",
     "output_type": "stream",
     "text": [
      "\n",
      "Test set: Accuracy: 0/8412 (0%)\n",
      "\n",
      "Epoch 3\n"
     ]
    },
    {
     "name": "stderr",
     "output_type": "stream",
     "text": [
      "Training: 100%|██████████| 77/77 [00:07<00:00,  9.94it/s]\n"
     ]
    },
    {
     "name": "stdout",
     "output_type": "stream",
     "text": [
      "\n",
      "Test set: Accuracy: 0/8412 (0%)\n",
      "\n",
      "Epoch 4\n"
     ]
    },
    {
     "name": "stderr",
     "output_type": "stream",
     "text": [
      "Training: 100%|██████████| 77/77 [00:07<00:00,  9.91it/s]\n"
     ]
    },
    {
     "name": "stdout",
     "output_type": "stream",
     "text": [
      "\n",
      "Test set: Accuracy: 0/8412 (0%)\n",
      "\n",
      "Epoch 5\n"
     ]
    },
    {
     "name": "stderr",
     "output_type": "stream",
     "text": [
      "Training: 100%|██████████| 77/77 [00:07<00:00,  9.83it/s]\n"
     ]
    },
    {
     "name": "stdout",
     "output_type": "stream",
     "text": [
      "\n",
      "Test set: Accuracy: 0/8412 (0%)\n",
      "\n",
      "Epoch 6\n"
     ]
    },
    {
     "name": "stderr",
     "output_type": "stream",
     "text": [
      "Training: 100%|██████████| 77/77 [00:07<00:00,  9.86it/s]\n"
     ]
    },
    {
     "name": "stdout",
     "output_type": "stream",
     "text": [
      "\n",
      "Test set: Accuracy: 0/8412 (0%)\n",
      "\n",
      "Epoch 7\n"
     ]
    },
    {
     "name": "stderr",
     "output_type": "stream",
     "text": [
      "Training: 100%|██████████| 77/77 [00:07<00:00,  9.85it/s]\n"
     ]
    },
    {
     "name": "stdout",
     "output_type": "stream",
     "text": [
      "\n",
      "Test set: Accuracy: 0/8412 (0%)\n",
      "\n",
      "Epoch 8\n"
     ]
    },
    {
     "name": "stderr",
     "output_type": "stream",
     "text": [
      "Training: 100%|██████████| 77/77 [00:07<00:00,  9.80it/s]\n"
     ]
    },
    {
     "name": "stdout",
     "output_type": "stream",
     "text": [
      "\n",
      "Test set: Accuracy: 0/8412 (0%)\n",
      "\n",
      "Epoch 9\n"
     ]
    },
    {
     "name": "stderr",
     "output_type": "stream",
     "text": [
      "Training: 100%|██████████| 77/77 [00:07<00:00,  9.94it/s]\n"
     ]
    },
    {
     "name": "stdout",
     "output_type": "stream",
     "text": [
      "\n",
      "Test set: Accuracy: 36/8412 (0%)\n",
      "\n",
      "Early stopping triggered\n"
     ]
    },
    {
     "name": "stderr",
     "output_type": "stream",
     "text": [
      "/home/luis/bin/miniconda3/envs/hwnascim/lib/python3.10/site-packages/torch/fx/_symbolic_trace.py:913: UserWarning: Was not able to add assertion to guarantee correct input x to specialized function. It is up to the user to make sure that your inputs match the inputs you specialized the function with.\n",
      "  warnings.warn(\n"
     ]
    },
    {
     "name": "stdout",
     "output_type": "stream",
     "text": [
      "no match for _tensor_constant0 _tensor_constant0\n",
      "no match for conv1 conv1 in call_modules\n",
      "no match for conv2_depthwise conv2.depthwise in call_modules\n",
      "no match for conv2_pointwise conv2.pointwise in call_modules\n",
      "no match for max_pool2d <function boolean_dispatch.<locals>.fn at 0x7b4a1e1580d0> in call_function\n",
      "no match for pool pool in call_modules\n",
      "no match for dropout1 dropout1 in call_modules\n",
      "no match for fc1 fc1 in call_modules\n",
      "no match for dropout2 dropout2 in call_modules\n",
      "no match for fc2 fc2 in call_modules\n",
      "no match for log_softmax <function log_softmax at 0x7b4a1e159c60> in call_function\n",
      "run on device cuda\n",
      "load state_dict\n",
      "Due to quantization MNSIM-2.0 does not support bias in convolution layer. Please use conv2d + batchnorm insead.\n",
      "Due to quantization MNSIM-2.0 does not support bias in convolution layer. Please use conv2d + batchnorm insead.\n",
      "Due to quantization MNSIM-2.0 does not support bias in convolution layer. Please use conv2d + batchnorm insead.\n",
      "Due to quantization MNSIM-2.0 does not support bias in fc layer. Please use fc + batchnorm insead.\n",
      "Due to quantization MNSIM-2.0 does not support bias in fc layer. Please use fc + batchnorm insead.\n",
      "Total crossbar number: 48\n",
      "Latency: 140078.3538067303 ns\n",
      "Area: 56131375.515707694 um^2\n",
      "Power:, <MNSIM.Power_Model.Model_inference_power.Model_inference_power object at 0x7b4981d68ac0> W\n",
      "Energy: 2333342.0466436576 nJ\n",
      "Hardware modeling time: 0.39220595359802246 s\n",
      "Original accuracy: 0.0\n",
      "[2025-06-07 14:26:49] \u001b[31mERROR: Model 1 fails to be executed.\u001b[0m\n",
      "[2025-06-07 14:26:49] \u001b[33mWARNING: SimplifiedModelSpace({'conv2': 0, 'dropout': 0.5, 'feature': 128}, 'training') has no metric. Skip.\u001b[0m\n",
      "[2025-06-07 14:26:49] \u001b[31mERROR: Strategy failed to execute.\u001b[0m\n"
     ]
    },
    {
     "ename": "UnboundLocalError",
     "evalue": "local variable 'tmp_buffer' referenced before assignment",
     "output_type": "error",
     "traceback": [
      "\u001b[0;31m---------------------------------------------------------------------------\u001b[0m",
      "\u001b[0;31mUnboundLocalError\u001b[0m                         Traceback (most recent call last)",
      "Cell \u001b[0;32mIn[7], line 10\u001b[0m\n\u001b[1;32m      8\u001b[0m exp\u001b[38;5;241m.\u001b[39mconfig\u001b[38;5;241m.\u001b[39mtrial_gpu_number \u001b[38;5;241m=\u001b[39m \u001b[38;5;241m0\u001b[39m   \u001b[38;5;66;03m# will not use GPU\u001b[39;00m\n\u001b[1;32m      9\u001b[0m exp\u001b[38;5;241m.\u001b[39mconfig\u001b[38;5;241m.\u001b[39mexecution_engine\u001b[38;5;241m.\u001b[39mname \u001b[38;5;241m=\u001b[39m \u001b[38;5;124m\"\u001b[39m\u001b[38;5;124msequential\u001b[39m\u001b[38;5;124m\"\u001b[39m\n\u001b[0;32m---> 10\u001b[0m \u001b[43mexp\u001b[49m\u001b[38;5;241;43m.\u001b[39;49m\u001b[43mrun\u001b[49m\u001b[43m(\u001b[49m\u001b[43mport\u001b[49m\u001b[38;5;241;43m=\u001b[39;49m\u001b[38;5;241;43m8081\u001b[39;49m\u001b[43m,\u001b[49m\u001b[43m \u001b[49m\u001b[43mdebug\u001b[49m\u001b[43m \u001b[49m\u001b[38;5;241;43m=\u001b[39;49m\u001b[43m \u001b[49m\u001b[38;5;28;43;01mTrue\u001b[39;49;00m\u001b[43m)\u001b[49m\n",
      "File \u001b[0;32m~/bin/miniconda3/envs/hwnascim/lib/python3.10/site-packages/nni/experiment/experiment.py:237\u001b[0m, in \u001b[0;36mExperiment.run\u001b[0;34m(self, port, wait_completion, debug)\u001b[0m\n\u001b[1;32m    215\u001b[0m \u001b[38;5;250m\u001b[39m\u001b[38;5;124;03m\"\"\"\u001b[39;00m\n\u001b[1;32m    216\u001b[0m \u001b[38;5;124;03mRun the experiment.\u001b[39;00m\n\u001b[1;32m    217\u001b[0m \n\u001b[0;32m   (...)\u001b[0m\n\u001b[1;32m    234\u001b[0m \u001b[38;5;124;03mOtherwise, return ``True`` when experiment done; or return ``False`` when experiment failed.\u001b[39;00m\n\u001b[1;32m    235\u001b[0m \u001b[38;5;124;03m\"\"\"\u001b[39;00m\n\u001b[1;32m    236\u001b[0m debug \u001b[38;5;241m=\u001b[39m \u001b[38;5;28mself\u001b[39m\u001b[38;5;241m.\u001b[39mconfig\u001b[38;5;241m.\u001b[39mdebug\n\u001b[0;32m--> 237\u001b[0m \u001b[38;5;28;01mreturn\u001b[39;00m \u001b[38;5;28;43mself\u001b[39;49m\u001b[38;5;241;43m.\u001b[39;49m\u001b[43m_run_impl\u001b[49m\u001b[43m(\u001b[49m\u001b[43mport\u001b[49m\u001b[43m,\u001b[49m\u001b[43m \u001b[49m\u001b[43mwait_completion\u001b[49m\u001b[43m,\u001b[49m\u001b[43m \u001b[49m\u001b[43mdebug\u001b[49m\u001b[43m)\u001b[49m\n",
      "File \u001b[0;32m~/bin/miniconda3/envs/hwnascim/lib/python3.10/site-packages/nni/experiment/experiment.py:205\u001b[0m, in \u001b[0;36mExperiment._run_impl\u001b[0;34m(self, port, wait_completion, debug)\u001b[0m\n\u001b[1;32m    203\u001b[0m \u001b[38;5;28;01mdef\u001b[39;00m\u001b[38;5;250m \u001b[39m\u001b[38;5;21m_run_impl\u001b[39m(\u001b[38;5;28mself\u001b[39m, port: \u001b[38;5;28mint\u001b[39m, wait_completion: \u001b[38;5;28mbool\u001b[39m, debug: \u001b[38;5;28mbool\u001b[39m) \u001b[38;5;241m-\u001b[39m\u001b[38;5;241m>\u001b[39m \u001b[38;5;28mbool\u001b[39m \u001b[38;5;241m|\u001b[39m \u001b[38;5;28;01mNone\u001b[39;00m:\n\u001b[1;32m    204\u001b[0m     \u001b[38;5;28;01mtry\u001b[39;00m:\n\u001b[0;32m--> 205\u001b[0m         \u001b[38;5;28;43mself\u001b[39;49m\u001b[38;5;241;43m.\u001b[39;49m\u001b[43mstart\u001b[49m\u001b[43m(\u001b[49m\u001b[43mport\u001b[49m\u001b[43m,\u001b[49m\u001b[43m \u001b[49m\u001b[43mdebug\u001b[49m\u001b[43m)\u001b[49m\n\u001b[1;32m    206\u001b[0m         \u001b[38;5;28;01mif\u001b[39;00m wait_completion:\n\u001b[1;32m    207\u001b[0m             \u001b[38;5;28;01mreturn\u001b[39;00m \u001b[38;5;28mself\u001b[39m\u001b[38;5;241m.\u001b[39m_wait_completion()\n",
      "File \u001b[0;32m~/bin/miniconda3/envs/hwnascim/lib/python3.10/site-packages/nni/nas/experiment/experiment.py:270\u001b[0m, in \u001b[0;36mNasExperiment.start\u001b[0;34m(self, port, debug, run_mode)\u001b[0m\n\u001b[1;32m    267\u001b[0m     \u001b[38;5;28mself\u001b[39m\u001b[38;5;241m.\u001b[39m_start_without_nni_manager()\n\u001b[1;32m    269\u001b[0m \u001b[38;5;28;01mif\u001b[39;00m \u001b[38;5;28mself\u001b[39m\u001b[38;5;241m.\u001b[39m_action \u001b[38;5;129;01min\u001b[39;00m [\u001b[38;5;124m'\u001b[39m\u001b[38;5;124mcreate\u001b[39m\u001b[38;5;124m'\u001b[39m, \u001b[38;5;124m'\u001b[39m\u001b[38;5;124mresume\u001b[39m\u001b[38;5;124m'\u001b[39m]:\n\u001b[0;32m--> 270\u001b[0m     \u001b[38;5;28;43mself\u001b[39;49m\u001b[38;5;241;43m.\u001b[39;49m\u001b[43m_start_engine_and_strategy\u001b[49m\u001b[43m(\u001b[49m\u001b[43m)\u001b[49m\n",
      "File \u001b[0;32m~/bin/miniconda3/envs/hwnascim/lib/python3.10/site-packages/nni/nas/experiment/experiment.py:230\u001b[0m, in \u001b[0;36mNasExperiment._start_engine_and_strategy\u001b[0;34m(self)\u001b[0m\n\u001b[1;32m    226\u001b[0m \u001b[38;5;28mself\u001b[39m\u001b[38;5;241m.\u001b[39msave_checkpoint()\n\u001b[1;32m    228\u001b[0m _logger\u001b[38;5;241m.\u001b[39minfo(\u001b[38;5;124m'\u001b[39m\u001b[38;5;124mExperiment initialized successfully. Starting exploration strategy...\u001b[39m\u001b[38;5;124m'\u001b[39m)\n\u001b[0;32m--> 230\u001b[0m \u001b[38;5;28;43mself\u001b[39;49m\u001b[38;5;241;43m.\u001b[39;49m\u001b[43mstrategy\u001b[49m\u001b[38;5;241;43m.\u001b[39;49m\u001b[43mrun\u001b[49m\u001b[43m(\u001b[49m\u001b[43m)\u001b[49m\n",
      "File \u001b[0;32m~/bin/miniconda3/envs/hwnascim/lib/python3.10/site-packages/nni/nas/strategy/base.py:170\u001b[0m, in \u001b[0;36mStrategy.run\u001b[0;34m(self)\u001b[0m\n\u001b[1;32m    167\u001b[0m \u001b[38;5;28mself\u001b[39m\u001b[38;5;241m.\u001b[39m_status \u001b[38;5;241m=\u001b[39m StrategyStatus\u001b[38;5;241m.\u001b[39mRUNNING\n\u001b[1;32m    169\u001b[0m \u001b[38;5;66;03m# Explore the model space.\u001b[39;00m\n\u001b[0;32m--> 170\u001b[0m \u001b[38;5;28;43mself\u001b[39;49m\u001b[38;5;241;43m.\u001b[39;49m\u001b[43m_run\u001b[49m\u001b[43m(\u001b[49m\u001b[43m)\u001b[49m\n\u001b[1;32m    171\u001b[0m \u001b[38;5;66;03m# Strategy doesn't wait for the models it submitted.\u001b[39;00m\n\u001b[1;32m    173\u001b[0m _logger\u001b[38;5;241m.\u001b[39mdebug(\u001b[38;5;124m'\u001b[39m\u001b[38;5;124mStrategy has successfully finished.\u001b[39m\u001b[38;5;124m'\u001b[39m)\n",
      "File \u001b[0;32m~/bin/miniconda3/envs/hwnascim/lib/python3.10/site-packages/nni/nas/strategy/evolution.py:192\u001b[0m, in \u001b[0;36mRegularizedEvolution._run\u001b[0;34m(self)\u001b[0m\n\u001b[1;32m    189\u001b[0m         \u001b[38;5;28;01mreturn\u001b[39;00m\n\u001b[1;32m    191\u001b[0m     \u001b[38;5;28mself\u001b[39m\u001b[38;5;241m.\u001b[39m_running_models\u001b[38;5;241m.\u001b[39mappend(model)\n\u001b[0;32m--> 192\u001b[0m     \u001b[38;5;28;43mself\u001b[39;49m\u001b[38;5;241;43m.\u001b[39;49m\u001b[43mengine\u001b[49m\u001b[38;5;241;43m.\u001b[39;49m\u001b[43msubmit_models\u001b[49m\u001b[43m(\u001b[49m\u001b[43mmodel\u001b[49m\u001b[43m)\u001b[49m\n\u001b[1;32m    194\u001b[0m \u001b[38;5;66;03m# Mutation of models\u001b[39;00m\n\u001b[1;32m    195\u001b[0m _logger\u001b[38;5;241m.\u001b[39minfo(\u001b[38;5;124m'\u001b[39m\u001b[38;5;124mSpawning mutated individuals.\u001b[39m\u001b[38;5;124m'\u001b[39m)\n",
      "File \u001b[0;32m~/bin/miniconda3/envs/hwnascim/lib/python3.10/site-packages/nni/nas/execution/sequential.py:141\u001b[0m, in \u001b[0;36mSequentialExecutionEngine.submit_models\u001b[0;34m(self, *models)\u001b[0m\n\u001b[1;32m    137\u001b[0m \u001b[38;5;28mself\u001b[39m\u001b[38;5;241m.\u001b[39m_history\u001b[38;5;241m.\u001b[39mappend(model)\n\u001b[1;32m    139\u001b[0m _logger\u001b[38;5;241m.\u001b[39mdebug(\u001b[38;5;124m'\u001b[39m\u001b[38;5;124mRunning model \u001b[39m\u001b[38;5;132;01m%d\u001b[39;00m\u001b[38;5;124m: \u001b[39m\u001b[38;5;132;01m%s\u001b[39;00m\u001b[38;5;124m'\u001b[39m, \u001b[38;5;28mself\u001b[39m\u001b[38;5;241m.\u001b[39m_model_count, model)\n\u001b[0;32m--> 141\u001b[0m \u001b[38;5;28;43mself\u001b[39;49m\u001b[38;5;241;43m.\u001b[39;49m\u001b[43m_run_single_model\u001b[49m\u001b[43m(\u001b[49m\u001b[43mmodel\u001b[49m\u001b[43m)\u001b[49m\n",
      "File \u001b[0;32m~/bin/miniconda3/envs/hwnascim/lib/python3.10/site-packages/nni/nas/execution/sequential.py:88\u001b[0m, in \u001b[0;36mSequentialExecutionEngine._run_single_model\u001b[0;34m(self, model)\u001b[0m\n\u001b[1;32m     86\u001b[0m \u001b[38;5;28;01massert\u001b[39;00m parameters \u001b[38;5;129;01mis\u001b[39;00m model\n\u001b[1;32m     87\u001b[0m \u001b[38;5;66;03m# Run training.\u001b[39;00m\n\u001b[0;32m---> 88\u001b[0m \u001b[43mmodel\u001b[49m\u001b[38;5;241;43m.\u001b[39;49m\u001b[43mexecute\u001b[49m\u001b[43m(\u001b[49m\u001b[43m)\u001b[49m\n\u001b[1;32m     89\u001b[0m \u001b[38;5;66;03m# Training success.\u001b[39;00m\n\u001b[1;32m     90\u001b[0m status \u001b[38;5;241m=\u001b[39m ModelStatus\u001b[38;5;241m.\u001b[39mTrained\n",
      "File \u001b[0;32m~/bin/miniconda3/envs/hwnascim/lib/python3.10/site-packages/nni/nas/space/space.py:132\u001b[0m, in \u001b[0;36mExecutableModelSpace.execute\u001b[0;34m(self)\u001b[0m\n\u001b[1;32m    130\u001b[0m \u001b[38;5;28;01mif\u001b[39;00m \u001b[38;5;28mself\u001b[39m\u001b[38;5;241m.\u001b[39mevaluator \u001b[38;5;129;01mis\u001b[39;00m \u001b[38;5;28;01mNone\u001b[39;00m:\n\u001b[1;32m    131\u001b[0m     \u001b[38;5;28;01mraise\u001b[39;00m \u001b[38;5;167;01mValueError\u001b[39;00m(\u001b[38;5;124m'\u001b[39m\u001b[38;5;124mEvaluator is not set, but default execute requires an evaluator.\u001b[39m\u001b[38;5;124m'\u001b[39m)\n\u001b[0;32m--> 132\u001b[0m \u001b[38;5;28;01mreturn\u001b[39;00m \u001b[38;5;28;43mself\u001b[39;49m\u001b[38;5;241;43m.\u001b[39;49m\u001b[43mevaluator\u001b[49m\u001b[38;5;241;43m.\u001b[39;49m\u001b[43m_execute\u001b[49m\u001b[43m(\u001b[49m\u001b[38;5;28;43mself\u001b[39;49m\u001b[43m)\u001b[49m\n",
      "File \u001b[0;32m~/bin/miniconda3/envs/hwnascim/lib/python3.10/site-packages/nni/nas/evaluator/evaluator.py:145\u001b[0m, in \u001b[0;36mEvaluator._execute\u001b[0;34m(self, model)\u001b[0m\n\u001b[1;32m    140\u001b[0m \u001b[38;5;250m\u001b[39m\u001b[38;5;124;03m\"\"\"Advanced users can overwrite this to avoid instantiation of the deep learning model.\u001b[39;00m\n\u001b[1;32m    141\u001b[0m \n\u001b[1;32m    142\u001b[0m \u001b[38;5;124;03mFor internal uses only.\u001b[39;00m\n\u001b[1;32m    143\u001b[0m \u001b[38;5;124;03m\"\"\"\u001b[39;00m\n\u001b[1;32m    144\u001b[0m executable_model \u001b[38;5;241m=\u001b[39m model\u001b[38;5;241m.\u001b[39mexecutable_model()\n\u001b[0;32m--> 145\u001b[0m \u001b[38;5;28;01mreturn\u001b[39;00m \u001b[38;5;28;43mself\u001b[39;49m\u001b[38;5;241;43m.\u001b[39;49m\u001b[43mevaluate\u001b[49m\u001b[43m(\u001b[49m\u001b[43mexecutable_model\u001b[49m\u001b[43m)\u001b[49m\n",
      "File \u001b[0;32m~/bin/miniconda3/envs/hwnascim/lib/python3.10/site-packages/nni/nas/evaluator/functional.py:59\u001b[0m, in \u001b[0;36mFunctionalEvaluator.evaluate\u001b[0;34m(self, model)\u001b[0m\n\u001b[1;32m     58\u001b[0m \u001b[38;5;28;01mdef\u001b[39;00m\u001b[38;5;250m \u001b[39m\u001b[38;5;21mevaluate\u001b[39m(\u001b[38;5;28mself\u001b[39m, model):\n\u001b[0;32m---> 59\u001b[0m     \u001b[38;5;28;01mreturn\u001b[39;00m \u001b[38;5;28;43mself\u001b[39;49m\u001b[38;5;241;43m.\u001b[39;49m\u001b[43mfunction\u001b[49m\u001b[43m(\u001b[49m\u001b[43mmodel\u001b[49m\u001b[43m,\u001b[49m\u001b[43m \u001b[49m\u001b[38;5;241;43m*\u001b[39;49m\u001b[38;5;241;43m*\u001b[39;49m\u001b[38;5;28;43mself\u001b[39;49m\u001b[38;5;241;43m.\u001b[39;49m\u001b[43marguments\u001b[49m\u001b[43m)\u001b[49m\n",
      "File \u001b[0;32m/mnt/c/Users/Luis/Documents/Uni-DESKTOP-F7N3QC8/TU Dresden/4. Semester/CC-Seminar/hwnas/evaluator.py:113\u001b[0m, in \u001b[0;36mhw_evaluation_model\u001b[0;34m(model, group, filepath, nsplits, k, batch_size, num_workers, epochs, lr)\u001b[0m\n\u001b[1;32m    111\u001b[0m         counter \u001b[38;5;241m+\u001b[39m\u001b[38;5;241m=\u001b[39m \u001b[38;5;241m1\u001b[39m\n\u001b[1;32m    112\u001b[0m     \u001b[38;5;66;03m# nni.report_intermediate_result(accuracy)\u001b[39;00m\n\u001b[0;32m--> 113\u001b[0m accuracy \u001b[38;5;241m=\u001b[39m \u001b[43mget_hardware_metrics\u001b[49m\u001b[43m(\u001b[49m\u001b[43mmodel\u001b[49m\u001b[38;5;241;43m=\u001b[39;49m\u001b[43mmodel\u001b[49m\u001b[43m,\u001b[49m\u001b[43m \u001b[49m\u001b[43mtrain_loader\u001b[49m\u001b[38;5;241;43m=\u001b[39;49m\u001b[43mtrain_loader\u001b[49m\u001b[43m,\u001b[49m\u001b[43m \u001b[49m\u001b[43mval_loader\u001b[49m\u001b[38;5;241;43m=\u001b[39;49m\u001b[43mval_loader\u001b[49m\u001b[43m)\u001b[49m\n\u001b[1;32m    114\u001b[0m \u001b[38;5;28mprint\u001b[39m(\u001b[38;5;124m\"\u001b[39m\u001b[38;5;124mEvaluation done.\u001b[39m\u001b[38;5;124m\"\u001b[39m)\n\u001b[1;32m    116\u001b[0m nni\u001b[38;5;241m.\u001b[39mreport_final_result(accuracy)\n",
      "File \u001b[0;32m/mnt/c/Users/Luis/Documents/Uni-DESKTOP-F7N3QC8/TU Dresden/4. Semester/CC-Seminar/hwnas/hardware_checker.py:104\u001b[0m, in \u001b[0;36mget_hardware_metrics\u001b[0;34m(model, train_loader, val_loader)\u001b[0m\n\u001b[1;32m    101\u001b[0m \u001b[38;5;28;01melse\u001b[39;00m:\n\u001b[1;32m    102\u001b[0m     \u001b[38;5;28mprint\u001b[39m(\u001b[38;5;124m\"\u001b[39m\u001b[38;5;124mOriginal accuracy:\u001b[39m\u001b[38;5;124m\"\u001b[39m, test_train_interface\u001b[38;5;241m.\u001b[39morigin_evaluate(method\u001b[38;5;241m=\u001b[39m\u001b[38;5;124m'\u001b[39m\u001b[38;5;124mFIX_TRAIN\u001b[39m\u001b[38;5;124m'\u001b[39m, adc_action\u001b[38;5;241m=\u001b[39m\u001b[38;5;124m'\u001b[39m\u001b[38;5;124mFIX\u001b[39m\u001b[38;5;124m'\u001b[39m))\n\u001b[0;32m--> 104\u001b[0m     cim_accuracy \u001b[38;5;241m=\u001b[39m \u001b[43mtest_train_interface\u001b[49m\u001b[38;5;241;43m.\u001b[39;49m\u001b[43mset_net_bits_evaluate\u001b[49m\u001b[43m(\u001b[49m\u001b[43mweight_2\u001b[49m\u001b[43m,\u001b[49m\u001b[43m \u001b[49m\u001b[43madc_action\u001b[49m\u001b[38;5;241;43m=\u001b[39;49m\u001b[38;5;124;43m'\u001b[39;49m\u001b[38;5;124;43mFIX\u001b[39;49m\u001b[38;5;124;43m'\u001b[39;49m\u001b[43m)\u001b[49m\n\u001b[1;32m    105\u001b[0m     \u001b[38;5;28mprint\u001b[39m(\u001b[38;5;124m\"\u001b[39m\u001b[38;5;124mPIM-based computing accuracy:\u001b[39m\u001b[38;5;124m\"\u001b[39m, cim_accuracy)\n\u001b[1;32m    106\u001b[0m accuracy_modeling_end_time \u001b[38;5;241m=\u001b[39m time\u001b[38;5;241m.\u001b[39mtime()\n",
      "File \u001b[0;32m/mnt/c/Users/Luis/Documents/Uni-DESKTOP-F7N3QC8/TU Dresden/4. Semester/CC-Seminar/MNSIM-2.0/MNSIM/Interface/interface.py:153\u001b[0m, in \u001b[0;36mTrainTestInterface.set_net_bits_evaluate\u001b[0;34m(self, net_bit_weights, adc_action)\u001b[0m\n\u001b[1;32m    151\u001b[0m images \u001b[38;5;241m=\u001b[39m images\u001b[38;5;241m.\u001b[39mto(\u001b[38;5;28mself\u001b[39m\u001b[38;5;241m.\u001b[39mdevice)\n\u001b[1;32m    152\u001b[0m test_total \u001b[38;5;241m+\u001b[39m\u001b[38;5;241m=\u001b[39m labels\u001b[38;5;241m.\u001b[39msize(\u001b[38;5;241m0\u001b[39m)\n\u001b[0;32m--> 153\u001b[0m outputs \u001b[38;5;241m=\u001b[39m \u001b[38;5;28;43mself\u001b[39;49m\u001b[38;5;241;43m.\u001b[39;49m\u001b[43mnet\u001b[49m\u001b[38;5;241;43m.\u001b[39;49m\u001b[43mset_weights_forward\u001b[49m\u001b[43m(\u001b[49m\u001b[43mimages\u001b[49m\u001b[43m,\u001b[49m\u001b[43m \u001b[49m\u001b[43mnet_bit_weights\u001b[49m\u001b[43m,\u001b[49m\u001b[43m \u001b[49m\u001b[43madc_action\u001b[49m\u001b[43m)\u001b[49m\n\u001b[1;32m    154\u001b[0m \u001b[38;5;66;03m# predicted\u001b[39;00m\n\u001b[1;32m    155\u001b[0m labels \u001b[38;5;241m=\u001b[39m labels\u001b[38;5;241m.\u001b[39mto(\u001b[38;5;28mself\u001b[39m\u001b[38;5;241m.\u001b[39mdevice)\n",
      "File \u001b[0;32m/mnt/c/Users/Luis/Documents/Uni-DESKTOP-F7N3QC8/TU Dresden/4. Semester/CC-Seminar/MNSIM-2.0/MNSIM/Interface/network.py:138\u001b[0m, in \u001b[0;36mNetworkGraph.set_weights_forward\u001b[0;34m(self, x, net_bit_weights, adc_action)\u001b[0m\n\u001b[1;32m    136\u001b[0m \u001b[38;5;28;01massert\u001b[39;00m \u001b[38;5;28mlen\u001b[39m(input_index) \u001b[38;5;129;01min\u001b[39;00m [\u001b[38;5;241m1\u001b[39m, \u001b[38;5;241m2\u001b[39m]\n\u001b[1;32m    137\u001b[0m \u001b[38;5;28;01mif\u001b[39;00m \u001b[38;5;28misinstance\u001b[39m(layer, quantize\u001b[38;5;241m.\u001b[39mQuantizeLayer):\n\u001b[0;32m--> 138\u001b[0m     tensor_list\u001b[38;5;241m.\u001b[39mappend(\u001b[43mlayer\u001b[49m\u001b[38;5;241;43m.\u001b[39;49m\u001b[43mset_weights_forward\u001b[49m\u001b[43m(\u001b[49m\u001b[43mtensor_list\u001b[49m\u001b[43m[\u001b[49m\u001b[43minput_index\u001b[49m\u001b[43m[\u001b[49m\u001b[38;5;241;43m0\u001b[39;49m\u001b[43m]\u001b[49m\u001b[43m \u001b[49m\u001b[38;5;241;43m+\u001b[39;49m\u001b[43m \u001b[49m\u001b[43mi\u001b[49m\u001b[43m \u001b[49m\u001b[38;5;241;43m+\u001b[39;49m\u001b[43m \u001b[49m\u001b[38;5;241;43m1\u001b[39;49m\u001b[43m]\u001b[49m\u001b[43m,\u001b[49m\u001b[43m \u001b[49m\u001b[43mnet_bit_weights\u001b[49m\u001b[43m[\u001b[49m\u001b[43mcount\u001b[49m\u001b[43m]\u001b[49m\u001b[43m,\u001b[49m\u001b[43m \u001b[49m\u001b[43madc_action\u001b[49m\u001b[43m)\u001b[49m)\n\u001b[1;32m    139\u001b[0m     \u001b[38;5;66;03m# tensor_list.append(layer.forward(tensor_list[input_index[0] + i + 1], 'SINGLE_FIX_TEST', adc_action))\u001b[39;00m\n\u001b[1;32m    140\u001b[0m     count \u001b[38;5;241m=\u001b[39m count \u001b[38;5;241m+\u001b[39m \u001b[38;5;241m1\u001b[39m\n",
      "File \u001b[0;32m/mnt/c/Users/Luis/Documents/Uni-DESKTOP-F7N3QC8/TU Dresden/4. Semester/CC-Seminar/MNSIM-2.0/MNSIM/Interface/quantize.py:460\u001b[0m, in \u001b[0;36mQuantizeLayer.set_weights_forward\u001b[0;34m(self, input, bit_weights, adc_action)\u001b[0m\n\u001b[1;32m    458\u001b[0m         output_final\u001b[38;5;241m=\u001b[39mtorch\u001b[38;5;241m.\u001b[39mcat([output_final,output],dim\u001b[38;5;241m=\u001b[39m\u001b[38;5;241m1\u001b[39m)\n\u001b[1;32m    459\u001b[0m \u001b[38;5;28;01melse\u001b[39;00m:\n\u001b[0;32m--> 460\u001b[0m     \u001b[38;5;28;01mif\u001b[39;00m \u001b[43mtmp_buffer\u001b[49m\u001b[38;5;241m!=\u001b[39m\u001b[38;5;28;01mNone\u001b[39;00m:\n\u001b[1;32m    461\u001b[0m         output_final\u001b[38;5;241m=\u001b[39mtmp_buffer\n\u001b[1;32m    462\u001b[0m     \u001b[38;5;28;01melse\u001b[39;00m:\n",
      "\u001b[0;31mUnboundLocalError\u001b[0m: local variable 'tmp_buffer' referenced before assignment"
     ]
    }
   ],
   "source": [
    "model_space = TutorialModelSpace()\n",
    "search_strategy = strategy.RegularizedEvolution(population_size=10, sample_size=3)\n",
    "evaluator = FunctionalEvaluator(hw_evaluation_model, **{\"filepath\":\"genome_dataset.csv\", \"group\" : \"genome_id\", \"batch_size\" : 256, \"epochs\" : 30, \"num_workers\" : 8})\n",
    "config = NasExperimentConfig(\"sequential\", \"simplified\", \"local\", **{\"debug\":True})\n",
    "exp = NasExperiment(model_space, evaluator, search_strategy, config)\n",
    "exp.config.max_trial_number = 25   # spawn 3 trials at most\n",
    "exp.config.trial_concurrency = 1  # will run 1 trial concurrently\n",
    "exp.config.trial_gpu_number = 0   # will not use GPU\n",
    "exp.config.execution_engine.name = \"sequential\"\n",
    "exp.run(port=8081, debug = True)"
   ]
  },
  {
   "cell_type": "code",
   "execution_count": null,
   "id": "e09d229b",
   "metadata": {},
   "outputs": [],
   "source": [
    "best_models  = exp.export_top_models(formatter='instance')"
   ]
  },
  {
   "cell_type": "code",
   "execution_count": null,
   "id": "9244fab3",
   "metadata": {},
   "outputs": [
    {
     "name": "stdout",
     "output_type": "stream",
     "text": [
      "True\n"
     ]
    },
    {
     "data": {
      "image/svg+xml": [
       "<?xml version=\"1.0\" encoding=\"UTF-8\" standalone=\"no\"?>\n",
       "<!DOCTYPE svg PUBLIC \"-//W3C//DTD SVG 1.1//EN\"\n",
       " \"http://www.w3.org/Graphics/SVG/1.1/DTD/svg11.dtd\">\n",
       "<!-- Generated by graphviz version 2.49.0 (20210829.0051)\n",
       " -->\n",
       "<!-- Pages: 1 -->\n",
       "<svg width=\"440pt\" height=\"864pt\"\n",
       " viewBox=\"0.00 0.00 440.39 864.00\" xmlns=\"http://www.w3.org/2000/svg\" xmlns:xlink=\"http://www.w3.org/1999/xlink\">\n",
       "<g id=\"graph0\" class=\"graph\" transform=\"scale(0.99 0.99) rotate(0) translate(4 871)\">\n",
       "<polygon fill=\"white\" stroke=\"transparent\" points=\"-4,4 -4,-871 442,-871 442,4 -4,4\"/>\n",
       "<!-- 133247886212080 -->\n",
       "<g id=\"node1\" class=\"node\">\n",
       "<title>133247886212080</title>\n",
       "<polygon fill=\"#caff70\" stroke=\"black\" points=\"301,-31 230,-31 230,0 301,0 301,-31\"/>\n",
       "<text text-anchor=\"middle\" x=\"265.5\" y=\"-7\" font-family=\"monospace\" font-size=\"10.00\"> (1, 100)</text>\n",
       "</g>\n",
       "<!-- 133247884460960 -->\n",
       "<g id=\"node2\" class=\"node\">\n",
       "<title>133247884460960</title>\n",
       "<polygon fill=\"lightgrey\" stroke=\"black\" points=\"331,-86 200,-86 200,-67 331,-67 331,-86\"/>\n",
       "<text text-anchor=\"middle\" x=\"265.5\" y=\"-74\" font-family=\"monospace\" font-size=\"10.00\">LogSoftmaxBackward0</text>\n",
       "</g>\n",
       "<!-- 133247884460960&#45;&gt;133247886212080 -->\n",
       "<g id=\"edge30\" class=\"edge\">\n",
       "<title>133247884460960&#45;&gt;133247886212080</title>\n",
       "<path fill=\"none\" stroke=\"black\" d=\"M265.5,-66.79C265.5,-60.07 265.5,-50.4 265.5,-41.34\"/>\n",
       "<polygon fill=\"black\" stroke=\"black\" points=\"269,-41.19 265.5,-31.19 262,-41.19 269,-41.19\"/>\n",
       "</g>\n",
       "<!-- 133247884461920 -->\n",
       "<g id=\"node3\" class=\"node\">\n",
       "<title>133247884461920</title>\n",
       "<polygon fill=\"lightgrey\" stroke=\"black\" points=\"316,-141 215,-141 215,-122 316,-122 316,-141\"/>\n",
       "<text text-anchor=\"middle\" x=\"265.5\" y=\"-129\" font-family=\"monospace\" font-size=\"10.00\">AddmmBackward0</text>\n",
       "</g>\n",
       "<!-- 133247884461920&#45;&gt;133247884460960 -->\n",
       "<g id=\"edge1\" class=\"edge\">\n",
       "<title>133247884461920&#45;&gt;133247884460960</title>\n",
       "<path fill=\"none\" stroke=\"black\" d=\"M265.5,-121.75C265.5,-114.8 265.5,-104.85 265.5,-96.13\"/>\n",
       "<polygon fill=\"black\" stroke=\"black\" points=\"269,-96.09 265.5,-86.09 262,-96.09 269,-96.09\"/>\n",
       "</g>\n",
       "<!-- 133247884460288 -->\n",
       "<g id=\"node4\" class=\"node\">\n",
       "<title>133247884460288</title>\n",
       "<polygon fill=\"lightgrey\" stroke=\"black\" points=\"203,-196 102,-196 102,-177 203,-177 203,-196\"/>\n",
       "<text text-anchor=\"middle\" x=\"152.5\" y=\"-184\" font-family=\"monospace\" font-size=\"10.00\">AccumulateGrad</text>\n",
       "</g>\n",
       "<!-- 133247884460288&#45;&gt;133247884461920 -->\n",
       "<g id=\"edge2\" class=\"edge\">\n",
       "<title>133247884460288&#45;&gt;133247884461920</title>\n",
       "<path fill=\"none\" stroke=\"black\" d=\"M170.66,-176.98C188.75,-168.5 216.78,-155.35 237.69,-145.54\"/>\n",
       "<polygon fill=\"black\" stroke=\"black\" points=\"239.45,-148.59 247.01,-141.17 236.47,-142.25 239.45,-148.59\"/>\n",
       "</g>\n",
       "<!-- 133249069826352 -->\n",
       "<g id=\"node5\" class=\"node\">\n",
       "<title>133249069826352</title>\n",
       "<polygon fill=\"lightblue\" stroke=\"black\" points=\"185,-262 120,-262 120,-232 185,-232 185,-262\"/>\n",
       "<text text-anchor=\"middle\" x=\"152.5\" y=\"-250\" font-family=\"monospace\" font-size=\"10.00\">fc2.bias</text>\n",
       "<text text-anchor=\"middle\" x=\"152.5\" y=\"-239\" font-family=\"monospace\" font-size=\"10.00\"> (100)</text>\n",
       "</g>\n",
       "<!-- 133249069826352&#45;&gt;133247884460288 -->\n",
       "<g id=\"edge3\" class=\"edge\">\n",
       "<title>133249069826352&#45;&gt;133247884460288</title>\n",
       "<path fill=\"none\" stroke=\"black\" d=\"M152.5,-231.84C152.5,-224.21 152.5,-214.7 152.5,-206.45\"/>\n",
       "<polygon fill=\"black\" stroke=\"black\" points=\"156,-206.27 152.5,-196.27 149,-206.27 156,-206.27\"/>\n",
       "</g>\n",
       "<!-- 133247884462064 -->\n",
       "<g id=\"node6\" class=\"node\">\n",
       "<title>133247884462064</title>\n",
       "<polygon fill=\"lightgrey\" stroke=\"black\" points=\"310,-196 221,-196 221,-177 310,-177 310,-196\"/>\n",
       "<text text-anchor=\"middle\" x=\"265.5\" y=\"-184\" font-family=\"monospace\" font-size=\"10.00\">MulBackward0</text>\n",
       "</g>\n",
       "<!-- 133247884462064&#45;&gt;133247884461920 -->\n",
       "<g id=\"edge4\" class=\"edge\">\n",
       "<title>133247884462064&#45;&gt;133247884461920</title>\n",
       "<path fill=\"none\" stroke=\"black\" d=\"M265.5,-176.75C265.5,-169.8 265.5,-159.85 265.5,-151.13\"/>\n",
       "<polygon fill=\"black\" stroke=\"black\" points=\"269,-151.09 265.5,-141.09 262,-151.09 269,-151.09\"/>\n",
       "</g>\n",
       "<!-- 133247884461344 -->\n",
       "<g id=\"node7\" class=\"node\">\n",
       "<title>133247884461344</title>\n",
       "<polygon fill=\"lightgrey\" stroke=\"black\" points=\"309,-256.5 214,-256.5 214,-237.5 309,-237.5 309,-256.5\"/>\n",
       "<text text-anchor=\"middle\" x=\"261.5\" y=\"-244.5\" font-family=\"monospace\" font-size=\"10.00\">ReluBackward0</text>\n",
       "</g>\n",
       "<!-- 133247884461344&#45;&gt;133247884462064 -->\n",
       "<g id=\"edge5\" class=\"edge\">\n",
       "<title>133247884461344&#45;&gt;133247884462064</title>\n",
       "<path fill=\"none\" stroke=\"black\" d=\"M262.09,-237.37C262.65,-229.25 263.5,-216.81 264.21,-206.39\"/>\n",
       "<polygon fill=\"black\" stroke=\"black\" points=\"267.72,-206.38 264.91,-196.17 260.73,-205.91 267.72,-206.38\"/>\n",
       "</g>\n",
       "<!-- 133247884461440 -->\n",
       "<g id=\"node8\" class=\"node\">\n",
       "<title>133247884461440</title>\n",
       "<polygon fill=\"lightgrey\" stroke=\"black\" points=\"312,-322.5 211,-322.5 211,-303.5 312,-303.5 312,-322.5\"/>\n",
       "<text text-anchor=\"middle\" x=\"261.5\" y=\"-310.5\" font-family=\"monospace\" font-size=\"10.00\">AddmmBackward0</text>\n",
       "</g>\n",
       "<!-- 133247884461440&#45;&gt;133247884461344 -->\n",
       "<g id=\"edge6\" class=\"edge\">\n",
       "<title>133247884461440&#45;&gt;133247884461344</title>\n",
       "<path fill=\"none\" stroke=\"black\" d=\"M261.5,-303.37C261.5,-294.16 261.5,-279.29 261.5,-267.27\"/>\n",
       "<polygon fill=\"black\" stroke=\"black\" points=\"265,-266.91 261.5,-256.91 258,-266.91 265,-266.91\"/>\n",
       "</g>\n",
       "<!-- 133247884460192 -->\n",
       "<g id=\"node9\" class=\"node\">\n",
       "<title>133247884460192</title>\n",
       "<polygon fill=\"lightgrey\" stroke=\"black\" points=\"199,-383 98,-383 98,-364 199,-364 199,-383\"/>\n",
       "<text text-anchor=\"middle\" x=\"148.5\" y=\"-371\" font-family=\"monospace\" font-size=\"10.00\">AccumulateGrad</text>\n",
       "</g>\n",
       "<!-- 133247884460192&#45;&gt;133247884461440 -->\n",
       "<g id=\"edge7\" class=\"edge\">\n",
       "<title>133247884460192&#45;&gt;133247884461440</title>\n",
       "<path fill=\"none\" stroke=\"black\" d=\"M165.17,-363.87C183.78,-354.23 214.12,-338.53 235.78,-327.31\"/>\n",
       "<polygon fill=\"black\" stroke=\"black\" points=\"237.49,-330.37 244.76,-322.67 234.27,-324.16 237.49,-330.37\"/>\n",
       "</g>\n",
       "<!-- 133249069851696 -->\n",
       "<g id=\"node10\" class=\"node\">\n",
       "<title>133249069851696</title>\n",
       "<polygon fill=\"lightblue\" stroke=\"black\" points=\"181,-449 116,-449 116,-419 181,-419 181,-449\"/>\n",
       "<text text-anchor=\"middle\" x=\"148.5\" y=\"-437\" font-family=\"monospace\" font-size=\"10.00\">fc1.bias</text>\n",
       "<text text-anchor=\"middle\" x=\"148.5\" y=\"-426\" font-family=\"monospace\" font-size=\"10.00\"> (256)</text>\n",
       "</g>\n",
       "<!-- 133249069851696&#45;&gt;133247884460192 -->\n",
       "<g id=\"edge8\" class=\"edge\">\n",
       "<title>133249069851696&#45;&gt;133247884460192</title>\n",
       "<path fill=\"none\" stroke=\"black\" d=\"M148.5,-418.84C148.5,-411.21 148.5,-401.7 148.5,-393.45\"/>\n",
       "<polygon fill=\"black\" stroke=\"black\" points=\"152,-393.27 148.5,-383.27 145,-393.27 152,-393.27\"/>\n",
       "</g>\n",
       "<!-- 133247884461104 -->\n",
       "<g id=\"node11\" class=\"node\">\n",
       "<title>133247884461104</title>\n",
       "<polygon fill=\"lightgrey\" stroke=\"black\" points=\"306,-383 217,-383 217,-364 306,-364 306,-383\"/>\n",
       "<text text-anchor=\"middle\" x=\"261.5\" y=\"-371\" font-family=\"monospace\" font-size=\"10.00\">MulBackward0</text>\n",
       "</g>\n",
       "<!-- 133247884461104&#45;&gt;133247884461440 -->\n",
       "<g id=\"edge9\" class=\"edge\">\n",
       "<title>133247884461104&#45;&gt;133247884461440</title>\n",
       "<path fill=\"none\" stroke=\"black\" d=\"M261.5,-363.87C261.5,-355.75 261.5,-343.31 261.5,-332.89\"/>\n",
       "<polygon fill=\"black\" stroke=\"black\" points=\"265,-332.67 261.5,-322.67 258,-332.67 265,-332.67\"/>\n",
       "</g>\n",
       "<!-- 133247884461392 -->\n",
       "<g id=\"node12\" class=\"node\">\n",
       "<title>133247884461392</title>\n",
       "<polygon fill=\"lightgrey\" stroke=\"black\" points=\"301,-443.5 206,-443.5 206,-424.5 301,-424.5 301,-443.5\"/>\n",
       "<text text-anchor=\"middle\" x=\"253.5\" y=\"-431.5\" font-family=\"monospace\" font-size=\"10.00\">ViewBackward0</text>\n",
       "</g>\n",
       "<!-- 133247884461392&#45;&gt;133247884461104 -->\n",
       "<g id=\"edge10\" class=\"edge\">\n",
       "<title>133247884461392&#45;&gt;133247884461104</title>\n",
       "<path fill=\"none\" stroke=\"black\" d=\"M254.68,-424.37C255.79,-416.25 257.49,-403.81 258.92,-393.39\"/>\n",
       "<polygon fill=\"black\" stroke=\"black\" points=\"262.43,-393.55 260.31,-383.17 255.49,-392.6 262.43,-393.55\"/>\n",
       "</g>\n",
       "<!-- 133247884464944 -->\n",
       "<g id=\"node13\" class=\"node\">\n",
       "<title>133247884464944</title>\n",
       "<polygon fill=\"lightgrey\" stroke=\"black\" points=\"331,-509.5 158,-509.5 158,-490.5 331,-490.5 331,-509.5\"/>\n",
       "<text text-anchor=\"middle\" x=\"244.5\" y=\"-497.5\" font-family=\"monospace\" font-size=\"10.00\">AdaptiveAvgPool2DBackward0</text>\n",
       "</g>\n",
       "<!-- 133247884464944&#45;&gt;133247884461392 -->\n",
       "<g id=\"edge11\" class=\"edge\">\n",
       "<title>133247884464944&#45;&gt;133247884461392</title>\n",
       "<path fill=\"none\" stroke=\"black\" d=\"M245.71,-490.37C247.02,-481.07 249.14,-465.98 250.84,-453.9\"/>\n",
       "<polygon fill=\"black\" stroke=\"black\" points=\"254.32,-454.3 252.25,-443.91 247.39,-453.32 254.32,-454.3\"/>\n",
       "</g>\n",
       "<!-- 133247884460720 -->\n",
       "<g id=\"node14\" class=\"node\">\n",
       "<title>133247884460720</title>\n",
       "<polygon fill=\"lightgrey\" stroke=\"black\" points=\"340,-570 149,-570 149,-551 340,-551 340,-570\"/>\n",
       "<text text-anchor=\"middle\" x=\"244.5\" y=\"-558\" font-family=\"monospace\" font-size=\"10.00\">MaxPool2DWithIndicesBackward0</text>\n",
       "</g>\n",
       "<!-- 133247884460720&#45;&gt;133247884464944 -->\n",
       "<g id=\"edge12\" class=\"edge\">\n",
       "<title>133247884460720&#45;&gt;133247884464944</title>\n",
       "<path fill=\"none\" stroke=\"black\" d=\"M244.5,-550.87C244.5,-542.75 244.5,-530.31 244.5,-519.89\"/>\n",
       "<polygon fill=\"black\" stroke=\"black\" points=\"248,-519.67 244.5,-509.67 241,-519.67 248,-519.67\"/>\n",
       "</g>\n",
       "<!-- 133247884460864 -->\n",
       "<g id=\"node15\" class=\"node\">\n",
       "<title>133247884460864</title>\n",
       "<polygon fill=\"lightgrey\" stroke=\"black\" points=\"313,-625 176,-625 176,-606 313,-606 313,-625\"/>\n",
       "<text text-anchor=\"middle\" x=\"244.5\" y=\"-613\" font-family=\"monospace\" font-size=\"10.00\">ConvolutionBackward0</text>\n",
       "</g>\n",
       "<!-- 133247884460864&#45;&gt;133247884460720 -->\n",
       "<g id=\"edge13\" class=\"edge\">\n",
       "<title>133247884460864&#45;&gt;133247884460720</title>\n",
       "<path fill=\"none\" stroke=\"black\" d=\"M244.5,-605.75C244.5,-598.8 244.5,-588.85 244.5,-580.13\"/>\n",
       "<polygon fill=\"black\" stroke=\"black\" points=\"248,-580.09 244.5,-570.09 241,-580.09 248,-580.09\"/>\n",
       "</g>\n",
       "<!-- 133247884463408 -->\n",
       "<g id=\"node16\" class=\"node\">\n",
       "<title>133247884463408</title>\n",
       "<polygon fill=\"lightgrey\" stroke=\"black\" points=\"167,-680 72,-680 72,-661 167,-661 167,-680\"/>\n",
       "<text text-anchor=\"middle\" x=\"119.5\" y=\"-668\" font-family=\"monospace\" font-size=\"10.00\">ReluBackward0</text>\n",
       "</g>\n",
       "<!-- 133247884463408&#45;&gt;133247884460864 -->\n",
       "<g id=\"edge14\" class=\"edge\">\n",
       "<title>133247884463408&#45;&gt;133247884460864</title>\n",
       "<path fill=\"none\" stroke=\"black\" d=\"M139.58,-660.98C159.87,-652.38 191.46,-638.99 214.67,-629.15\"/>\n",
       "<polygon fill=\"black\" stroke=\"black\" points=\"216.21,-632.3 224.05,-625.17 213.48,-625.85 216.21,-632.3\"/>\n",
       "</g>\n",
       "<!-- 133247884463360 -->\n",
       "<g id=\"node17\" class=\"node\">\n",
       "<title>133247884463360</title>\n",
       "<polygon fill=\"lightgrey\" stroke=\"black\" points=\"178,-740.5 41,-740.5 41,-721.5 178,-721.5 178,-740.5\"/>\n",
       "<text text-anchor=\"middle\" x=\"109.5\" y=\"-728.5\" font-family=\"monospace\" font-size=\"10.00\">ConvolutionBackward0</text>\n",
       "</g>\n",
       "<!-- 133247884463360&#45;&gt;133247884463408 -->\n",
       "<g id=\"edge15\" class=\"edge\">\n",
       "<title>133247884463360&#45;&gt;133247884463408</title>\n",
       "<path fill=\"none\" stroke=\"black\" d=\"M110.98,-721.37C112.38,-713.16 114.54,-700.54 116.33,-690.05\"/>\n",
       "<polygon fill=\"black\" stroke=\"black\" points=\"119.78,-690.61 118.02,-680.17 112.88,-689.43 119.78,-690.61\"/>\n",
       "</g>\n",
       "<!-- 133247884470464 -->\n",
       "<g id=\"node18\" class=\"node\">\n",
       "<title>133247884470464</title>\n",
       "<polygon fill=\"lightgrey\" stroke=\"black\" points=\"101,-801 0,-801 0,-782 101,-782 101,-801\"/>\n",
       "<text text-anchor=\"middle\" x=\"50.5\" y=\"-789\" font-family=\"monospace\" font-size=\"10.00\">AccumulateGrad</text>\n",
       "</g>\n",
       "<!-- 133247884470464&#45;&gt;133247884463360 -->\n",
       "<g id=\"edge16\" class=\"edge\">\n",
       "<title>133247884470464&#45;&gt;133247884463360</title>\n",
       "<path fill=\"none\" stroke=\"black\" d=\"M59.21,-781.87C68.18,-772.97 82.38,-758.89 93.41,-747.95\"/>\n",
       "<polygon fill=\"black\" stroke=\"black\" points=\"96.12,-750.19 100.76,-740.67 91.19,-745.22 96.12,-750.19\"/>\n",
       "</g>\n",
       "<!-- 133249069828112 -->\n",
       "<g id=\"node19\" class=\"node\">\n",
       "<title>133249069828112</title>\n",
       "<polygon fill=\"lightblue\" stroke=\"black\" points=\"101,-867 0,-867 0,-837 101,-837 101,-867\"/>\n",
       "<text text-anchor=\"middle\" x=\"50.5\" y=\"-855\" font-family=\"monospace\" font-size=\"10.00\">conv1.weight</text>\n",
       "<text text-anchor=\"middle\" x=\"50.5\" y=\"-844\" font-family=\"monospace\" font-size=\"10.00\"> (32, 1, 3, 3)</text>\n",
       "</g>\n",
       "<!-- 133249069828112&#45;&gt;133247884470464 -->\n",
       "<g id=\"edge17\" class=\"edge\">\n",
       "<title>133249069828112&#45;&gt;133247884470464</title>\n",
       "<path fill=\"none\" stroke=\"black\" d=\"M50.5,-836.84C50.5,-829.21 50.5,-819.7 50.5,-811.45\"/>\n",
       "<polygon fill=\"black\" stroke=\"black\" points=\"54,-811.27 50.5,-801.27 47,-811.27 54,-811.27\"/>\n",
       "</g>\n",
       "<!-- 133247884464176 -->\n",
       "<g id=\"node20\" class=\"node\">\n",
       "<title>133247884464176</title>\n",
       "<polygon fill=\"lightgrey\" stroke=\"black\" points=\"220,-801 119,-801 119,-782 220,-782 220,-801\"/>\n",
       "<text text-anchor=\"middle\" x=\"169.5\" y=\"-789\" font-family=\"monospace\" font-size=\"10.00\">AccumulateGrad</text>\n",
       "</g>\n",
       "<!-- 133247884464176&#45;&gt;133247884463360 -->\n",
       "<g id=\"edge18\" class=\"edge\">\n",
       "<title>133247884464176&#45;&gt;133247884463360</title>\n",
       "<path fill=\"none\" stroke=\"black\" d=\"M160.65,-781.87C151.52,-772.97 137.08,-758.89 125.86,-747.95\"/>\n",
       "<polygon fill=\"black\" stroke=\"black\" points=\"127.99,-745.14 118.39,-740.67 123.11,-750.15 127.99,-745.14\"/>\n",
       "</g>\n",
       "<!-- 133249070251952 -->\n",
       "<g id=\"node21\" class=\"node\">\n",
       "<title>133249070251952</title>\n",
       "<polygon fill=\"lightblue\" stroke=\"black\" points=\"208,-867 131,-867 131,-837 208,-837 208,-867\"/>\n",
       "<text text-anchor=\"middle\" x=\"169.5\" y=\"-855\" font-family=\"monospace\" font-size=\"10.00\">conv1.bias</text>\n",
       "<text text-anchor=\"middle\" x=\"169.5\" y=\"-844\" font-family=\"monospace\" font-size=\"10.00\"> (32)</text>\n",
       "</g>\n",
       "<!-- 133249070251952&#45;&gt;133247884464176 -->\n",
       "<g id=\"edge19\" class=\"edge\">\n",
       "<title>133249070251952&#45;&gt;133247884464176</title>\n",
       "<path fill=\"none\" stroke=\"black\" d=\"M169.5,-836.84C169.5,-829.21 169.5,-819.7 169.5,-811.45\"/>\n",
       "<polygon fill=\"black\" stroke=\"black\" points=\"173,-811.27 169.5,-801.27 166,-811.27 173,-811.27\"/>\n",
       "</g>\n",
       "<!-- 133247884463072 -->\n",
       "<g id=\"node22\" class=\"node\">\n",
       "<title>133247884463072</title>\n",
       "<polygon fill=\"lightgrey\" stroke=\"black\" points=\"295,-680 194,-680 194,-661 295,-661 295,-680\"/>\n",
       "<text text-anchor=\"middle\" x=\"244.5\" y=\"-668\" font-family=\"monospace\" font-size=\"10.00\">AccumulateGrad</text>\n",
       "</g>\n",
       "<!-- 133247884463072&#45;&gt;133247884460864 -->\n",
       "<g id=\"edge20\" class=\"edge\">\n",
       "<title>133247884463072&#45;&gt;133247884460864</title>\n",
       "<path fill=\"none\" stroke=\"black\" d=\"M244.5,-660.75C244.5,-653.8 244.5,-643.85 244.5,-635.13\"/>\n",
       "<polygon fill=\"black\" stroke=\"black\" points=\"248,-635.09 244.5,-625.09 241,-635.09 248,-635.09\"/>\n",
       "</g>\n",
       "<!-- 133248335734368 -->\n",
       "<g id=\"node23\" class=\"node\">\n",
       "<title>133248335734368</title>\n",
       "<polygon fill=\"lightblue\" stroke=\"black\" points=\"303,-746 196,-746 196,-716 303,-716 303,-746\"/>\n",
       "<text text-anchor=\"middle\" x=\"249.5\" y=\"-734\" font-family=\"monospace\" font-size=\"10.00\">conv2.weight</text>\n",
       "<text text-anchor=\"middle\" x=\"249.5\" y=\"-723\" font-family=\"monospace\" font-size=\"10.00\"> (64, 32, 3, 3)</text>\n",
       "</g>\n",
       "<!-- 133248335734368&#45;&gt;133247884463072 -->\n",
       "<g id=\"edge21\" class=\"edge\">\n",
       "<title>133248335734368&#45;&gt;133247884463072</title>\n",
       "<path fill=\"none\" stroke=\"black\" d=\"M248.29,-715.84C247.64,-708.21 246.83,-698.7 246.12,-690.45\"/>\n",
       "<polygon fill=\"black\" stroke=\"black\" points=\"249.59,-689.93 245.25,-680.27 242.61,-690.53 249.59,-689.93\"/>\n",
       "</g>\n",
       "<!-- 133247884464848 -->\n",
       "<g id=\"node24\" class=\"node\">\n",
       "<title>133247884464848</title>\n",
       "<polygon fill=\"lightgrey\" stroke=\"black\" points=\"414,-680 313,-680 313,-661 414,-661 414,-680\"/>\n",
       "<text text-anchor=\"middle\" x=\"363.5\" y=\"-668\" font-family=\"monospace\" font-size=\"10.00\">AccumulateGrad</text>\n",
       "</g>\n",
       "<!-- 133247884464848&#45;&gt;133247884460864 -->\n",
       "<g id=\"edge22\" class=\"edge\">\n",
       "<title>133247884464848&#45;&gt;133247884460864</title>\n",
       "<path fill=\"none\" stroke=\"black\" d=\"M344.38,-660.98C325.15,-652.42 295.27,-639.11 273.19,-629.28\"/>\n",
       "<polygon fill=\"black\" stroke=\"black\" points=\"274.53,-626.04 263.97,-625.17 271.68,-632.44 274.53,-626.04\"/>\n",
       "</g>\n",
       "<!-- 133249069827152 -->\n",
       "<g id=\"node25\" class=\"node\">\n",
       "<title>133249069827152</title>\n",
       "<polygon fill=\"lightblue\" stroke=\"black\" points=\"402,-746 325,-746 325,-716 402,-716 402,-746\"/>\n",
       "<text text-anchor=\"middle\" x=\"363.5\" y=\"-734\" font-family=\"monospace\" font-size=\"10.00\">conv2.bias</text>\n",
       "<text text-anchor=\"middle\" x=\"363.5\" y=\"-723\" font-family=\"monospace\" font-size=\"10.00\"> (64)</text>\n",
       "</g>\n",
       "<!-- 133249069827152&#45;&gt;133247884464848 -->\n",
       "<g id=\"edge23\" class=\"edge\">\n",
       "<title>133249069827152&#45;&gt;133247884464848</title>\n",
       "<path fill=\"none\" stroke=\"black\" d=\"M363.5,-715.84C363.5,-708.21 363.5,-698.7 363.5,-690.45\"/>\n",
       "<polygon fill=\"black\" stroke=\"black\" points=\"367,-690.27 363.5,-680.27 360,-690.27 367,-690.27\"/>\n",
       "</g>\n",
       "<!-- 133247884462304 -->\n",
       "<g id=\"node26\" class=\"node\">\n",
       "<title>133247884462304</title>\n",
       "<polygon fill=\"lightgrey\" stroke=\"black\" points=\"412,-383 335,-383 335,-364 412,-364 412,-383\"/>\n",
       "<text text-anchor=\"middle\" x=\"373.5\" y=\"-371\" font-family=\"monospace\" font-size=\"10.00\">TBackward0</text>\n",
       "</g>\n",
       "<!-- 133247884462304&#45;&gt;133247884461440 -->\n",
       "<g id=\"edge24\" class=\"edge\">\n",
       "<title>133247884462304&#45;&gt;133247884461440</title>\n",
       "<path fill=\"none\" stroke=\"black\" d=\"M356.97,-363.87C338.53,-354.23 308.46,-338.53 286.99,-327.31\"/>\n",
       "<polygon fill=\"black\" stroke=\"black\" points=\"288.58,-324.19 278.09,-322.67 285.34,-330.4 288.58,-324.19\"/>\n",
       "</g>\n",
       "<!-- 133247884461536 -->\n",
       "<g id=\"node27\" class=\"node\">\n",
       "<title>133247884461536</title>\n",
       "<polygon fill=\"lightgrey\" stroke=\"black\" points=\"436,-443.5 335,-443.5 335,-424.5 436,-424.5 436,-443.5\"/>\n",
       "<text text-anchor=\"middle\" x=\"385.5\" y=\"-431.5\" font-family=\"monospace\" font-size=\"10.00\">AccumulateGrad</text>\n",
       "</g>\n",
       "<!-- 133247884461536&#45;&gt;133247884462304 -->\n",
       "<g id=\"edge25\" class=\"edge\">\n",
       "<title>133247884461536&#45;&gt;133247884462304</title>\n",
       "<path fill=\"none\" stroke=\"black\" d=\"M383.73,-424.37C382.05,-416.16 379.46,-403.54 377.31,-393.05\"/>\n",
       "<polygon fill=\"black\" stroke=\"black\" points=\"380.72,-392.26 375.28,-383.17 373.86,-393.67 380.72,-392.26\"/>\n",
       "</g>\n",
       "<!-- 133248335281136 -->\n",
       "<g id=\"node28\" class=\"node\">\n",
       "<title>133248335281136</title>\n",
       "<polygon fill=\"lightblue\" stroke=\"black\" points=\"438,-515 349,-515 349,-485 438,-485 438,-515\"/>\n",
       "<text text-anchor=\"middle\" x=\"393.5\" y=\"-503\" font-family=\"monospace\" font-size=\"10.00\">fc1.weight</text>\n",
       "<text text-anchor=\"middle\" x=\"393.5\" y=\"-492\" font-family=\"monospace\" font-size=\"10.00\"> (256, 1024)</text>\n",
       "</g>\n",
       "<!-- 133248335281136&#45;&gt;133247884461536 -->\n",
       "<g id=\"edge26\" class=\"edge\">\n",
       "<title>133248335281136&#45;&gt;133247884461536</title>\n",
       "<path fill=\"none\" stroke=\"black\" d=\"M391.72,-484.8C390.59,-475.7 389.1,-463.79 387.86,-453.9\"/>\n",
       "<polygon fill=\"black\" stroke=\"black\" points=\"391.32,-453.33 386.61,-443.84 384.37,-454.2 391.32,-453.33\"/>\n",
       "</g>\n",
       "<!-- 133247884470512 -->\n",
       "<g id=\"node29\" class=\"node\">\n",
       "<title>133247884470512</title>\n",
       "<polygon fill=\"lightgrey\" stroke=\"black\" points=\"409,-196 332,-196 332,-177 409,-177 409,-196\"/>\n",
       "<text text-anchor=\"middle\" x=\"370.5\" y=\"-184\" font-family=\"monospace\" font-size=\"10.00\">TBackward0</text>\n",
       "</g>\n",
       "<!-- 133247884470512&#45;&gt;133247884461920 -->\n",
       "<g id=\"edge27\" class=\"edge\">\n",
       "<title>133247884470512&#45;&gt;133247884461920</title>\n",
       "<path fill=\"none\" stroke=\"black\" d=\"M353.63,-176.98C336.89,-168.54 311,-155.47 291.61,-145.68\"/>\n",
       "<polygon fill=\"black\" stroke=\"black\" points=\"293.18,-142.55 282.68,-141.17 290.03,-148.8 293.18,-142.55\"/>\n",
       "</g>\n",
       "<!-- 133247884460912 -->\n",
       "<g id=\"node30\" class=\"node\">\n",
       "<title>133247884460912</title>\n",
       "<polygon fill=\"lightgrey\" stroke=\"black\" points=\"428,-256.5 327,-256.5 327,-237.5 428,-237.5 428,-256.5\"/>\n",
       "<text text-anchor=\"middle\" x=\"377.5\" y=\"-244.5\" font-family=\"monospace\" font-size=\"10.00\">AccumulateGrad</text>\n",
       "</g>\n",
       "<!-- 133247884460912&#45;&gt;133247884470512 -->\n",
       "<g id=\"edge28\" class=\"edge\">\n",
       "<title>133247884460912&#45;&gt;133247884470512</title>\n",
       "<path fill=\"none\" stroke=\"black\" d=\"M376.47,-237.37C375.5,-229.25 374.01,-216.81 372.76,-206.39\"/>\n",
       "<polygon fill=\"black\" stroke=\"black\" points=\"376.2,-205.68 371.54,-196.17 369.25,-206.51 376.2,-205.68\"/>\n",
       "</g>\n",
       "<!-- 133249069857776 -->\n",
       "<g id=\"node31\" class=\"node\">\n",
       "<title>133249069857776</title>\n",
       "<polygon fill=\"lightblue\" stroke=\"black\" points=\"419,-328 336,-328 336,-298 419,-298 419,-328\"/>\n",
       "<text text-anchor=\"middle\" x=\"377.5\" y=\"-316\" font-family=\"monospace\" font-size=\"10.00\">fc2.weight</text>\n",
       "<text text-anchor=\"middle\" x=\"377.5\" y=\"-305\" font-family=\"monospace\" font-size=\"10.00\"> (100, 256)</text>\n",
       "</g>\n",
       "<!-- 133249069857776&#45;&gt;133247884460912 -->\n",
       "<g id=\"edge29\" class=\"edge\">\n",
       "<title>133249069857776&#45;&gt;133247884460912</title>\n",
       "<path fill=\"none\" stroke=\"black\" d=\"M377.5,-297.8C377.5,-288.7 377.5,-276.79 377.5,-266.9\"/>\n",
       "<polygon fill=\"black\" stroke=\"black\" points=\"381,-266.84 377.5,-256.84 374,-266.84 381,-266.84\"/>\n",
       "</g>\n",
       "</g>\n",
       "</svg>\n"
      ],
      "text/plain": [
       "<graphviz.graphs.Digraph at 0x793030d206d0>"
      ]
     },
     "execution_count": 24,
     "metadata": {},
     "output_type": "execute_result"
    }
   ],
   "source": [
    "model = best_models[0]\n",
    "x = torch.randn(1, 1, 28, 28)  # Adjust shape to your input\n",
    "print(isinstance(model, torch.nn.Module))\n",
    "y = model(x)\n",
    "\n",
    "dot = make_dot(y, params=dict(model.named_parameters()))\n",
    "dot"
   ]
  },
  {
   "cell_type": "code",
   "execution_count": null,
   "id": "53f1094f",
   "metadata": {},
   "outputs": [],
   "source": []
  }
 ],
 "metadata": {
  "kernelspec": {
   "display_name": "hwnascim",
   "language": "python",
   "name": "python3"
  },
  "language_info": {
   "codemirror_mode": {
    "name": "ipython",
    "version": 3
   },
   "file_extension": ".py",
   "mimetype": "text/x-python",
   "name": "python",
   "nbconvert_exporter": "python",
   "pygments_lexer": "ipython3",
   "version": "3.8.20"
  }
 },
 "nbformat": 4,
 "nbformat_minor": 5
}
